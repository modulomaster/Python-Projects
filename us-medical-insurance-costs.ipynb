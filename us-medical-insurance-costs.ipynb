{
 "cells": [
  {
   "cell_type": "markdown",
   "metadata": {},
   "source": [
    "# U.S. Medical Insurance Costs"
   ]
  },
  {
   "cell_type": "markdown",
   "metadata": {},
   "source": [
    "The code below is necessary for all of our functions to work. Please be mindful that there are multiple ways to store csv file data"
   ]
  },
  {
   "cell_type": "code",
   "execution_count": 459,
   "metadata": {},
   "outputs": [],
   "source": [
    "import csv\n",
    "insurance_list_of_dictionary = []\n",
    "#converts the contents of the csv file to a list of dictionaries\n",
    "with open('insurance.csv', newline='') as insurance_data: \n",
    "    categories = csv.DictReader(insurance_data)\n",
    "    for row in categories:\n",
    "        insurance_list_of_dictionary.append(row)\n",
    "#preserves the datatypes of the columns instead of converting all of them into strings   \n",
    "for data in insurance_list_of_dictionary:\n",
    "    data['age'] = int(data.get('age'))\n",
    "    data['bmi'] = float(data.get('bmi'))\n",
    "    data['charges'] = float(data.get('charges'))\n",
    "    data['children'] = int(data.get('children'))\n"
   ]
  },
  {
   "cell_type": "markdown",
   "metadata": {},
   "source": [
    "The code below allows us to calculate the average charge for the specified sex. Note that the perameter only takes an input of either male or female."
   ]
  },
  {
   "cell_type": "code",
   "execution_count": 460,
   "metadata": {},
   "outputs": [],
   "source": [
    "#this function gives us the average number of charges for a given sex\n",
    "def avg_charge_sex(sex):\n",
    "    sex_specific_list = []\n",
    "    for data in insurance_list_of_dictionary:\n",
    "        if  data['sex'] == sex:\n",
    "            sex_specific_list.append(data['charges'])\n",
    "       \n",
    "    return print(\"There are \" + str(len(sex_specific_list)) \n",
    "                 +\" number of \" \n",
    "                 + sex \n",
    "                 + '.' \n",
    "                 + ' The average charge for a ' \n",
    "                 + sex \n",
    "                 + ' is ' \n",
    "                 + '$' \n",
    "                 + str(round(sum(sex_specific_list) / len(sex_specific_list), 2)))\n",
    "    "
   ]
  },
  {
   "cell_type": "code",
   "execution_count": 461,
   "metadata": {},
   "outputs": [
    {
     "name": "stdout",
     "output_type": "stream",
     "text": [
      "There are 676 number of male. The average charge for a male is $13956.75\n",
      "There are 662 number of female. The average charge for a female is $12569.58\n"
     ]
    }
   ],
   "source": [
    "avg_charge_sex('male')\n",
    "avg_charge_sex('female')"
   ]
  },
  {
   "cell_type": "markdown",
   "metadata": {},
   "source": [
    "The code below allows us to calculate the average charge for smokers and non-smokers. Note that the perameter only takes an input of either \"yes\" or \"no\"."
   ]
  },
  {
   "cell_type": "code",
   "execution_count": 462,
   "metadata": {},
   "outputs": [],
   "source": [
    "def avg_charge_smoke(yes_no):\n",
    "    \n",
    "    avg_smk = 0\n",
    "    smokers_list = []\n",
    "    smoker_or_nonsmoker = ''\n",
    "    \n",
    "    if yes_no == 'yes':\n",
    "        smoker_or_nonsmoker = 'smoker'\n",
    "    else:\n",
    "        smoker_or_nonsmoker = 'non-smoker'\n",
    "\n",
    "    for data in insurance_list_of_dictionary:            \n",
    "    \n",
    "        if data['smoker'] == yes_no:\n",
    "            smokers_list.append(data.get('charges'))\n",
    "            \n",
    "    avg_smk = sum(smokers_list)/len(smokers_list)\n",
    "    \n",
    "\n",
    "\n",
    "    return print('There are ' \n",
    "          + str(len(smokers_list)) \n",
    "          + ' number of ' \n",
    "          + smoker_or_nonsmoker + 's. '\n",
    "          + 'The average charge for ' \n",
    "          + smoker_or_nonsmoker \n",
    "          + 's ' \n",
    "          +'is ' \n",
    "          + '$' \n",
    "          + str(round(avg_smk,2)))"
   ]
  },
  {
   "cell_type": "code",
   "execution_count": 463,
   "metadata": {},
   "outputs": [
    {
     "name": "stdout",
     "output_type": "stream",
     "text": [
      "There are 274 number of smokers. The average charge for smokers is $32050.23\n",
      "There are 1064 number of non-smokers. The average charge for non-smokers is $8434.27\n"
     ]
    }
   ],
   "source": [
    "avg_charge_smoke('yes')\n",
    "avg_charge_smoke('no')"
   ]
  },
  {
   "cell_type": "markdown",
   "metadata": {},
   "source": [
    "The code below allows us to calculate the average charge for the specified age. Please note that if you specify an age that does not exist in the data set you will be promted to input an age that fits the perameter."
   ]
  },
  {
   "cell_type": "code",
   "execution_count": 464,
   "metadata": {},
   "outputs": [],
   "source": [
    "def avg_charge_age(age):\n",
    "    \n",
    "    avg_age = 0\n",
    "    age_list = []\n",
    "    all_age_list = []\n",
    "    for data in insurance_list_of_dictionary:            \n",
    "        all_age_list.append(data.get('age'))\n",
    "    \n",
    "    for data in insurance_list_of_dictionary:            \n",
    "        \n",
    "        if age < min(all_age_list) or age > max(all_age_list):\n",
    "            return print('Age is not within the data given.')\n",
    "        \n",
    "        if data['age'] == age:\n",
    "            age_list.append(data.get('charges'))     \n",
    "    avg_age = sum(age_list)/len(age_list)\n",
    "    \n",
    "\n",
    "\n",
    "    return print('There are ' \n",
    "          + str(len(age_list)) \n",
    "          + ' insurance holders who are ' \n",
    "          + str(age) + ' years old. '\n",
    "          + 'The average charge for ' \n",
    "          + str(age) \n",
    "          + ' year olds ' \n",
    "          +'is ' \n",
    "          + '$' \n",
    "          + str(round(avg_age,2)))\n"
   ]
  },
  {
   "cell_type": "code",
   "execution_count": 465,
   "metadata": {},
   "outputs": [
    {
     "name": "stdout",
     "output_type": "stream",
     "text": [
      "There are 25 insurance holders who are 37 years old. The average charge for 37 year olds is $18019.91\n"
     ]
    }
   ],
   "source": [
    "avg_charge_age(37)"
   ]
  },
  {
   "cell_type": "markdown",
   "metadata": {},
   "source": [
    "The function below gives us the average charge for the specified perameters specified"
   ]
  },
  {
   "cell_type": "code",
   "execution_count": 466,
   "metadata": {},
   "outputs": [],
   "source": [
    "def avg_charge(age, sex, children, smoker, region):\n",
    "    avg_charge = 0\n",
    "    charge_list = []\n",
    "    all_age_list = []\n",
    "    all_children_list = []\n",
    "    all_sex_list = []\n",
    "    all_region_list = []\n",
    "    all_smoker_list = []\n",
    "    \n",
    "    smoker_or_nonsmoker = ''\n",
    "    \n",
    "    if smoker == 'yes':\n",
    "        smoker_or_nonsmoker = 'smoker'\n",
    "    else:\n",
    "        smoker_or_nonsmoker = 'non-smoker'\n",
    "\n",
    "    #appends data onto the list variables without adding any duplicates \n",
    "    [all_age_list.append(data.get('age')) for data in insurance_list_of_dictionary if data not in all_age_list]\n",
    "    [all_children_list.append(data.get('children')) for data in insurance_list_of_dictionary if data not in all_children_list]\n",
    "    [all_sex_list.append(data.get('sex')) for data in insurance_list_of_dictionary if data not in all_sex_list]\n",
    "    [all_region_list.append(data.get('region')) for data in insurance_list_of_dictionary if data not in all_region_list]\n",
    "    [all_smoker_list.append(data.get('smoker')) for data in insurance_list_of_dictionary if data not in all_smoker_list]\n",
    "\n",
    "    for data in insurance_list_of_dictionary:\n",
    "        \n",
    "        if age not in all_age_list:\n",
    "            return print('Age is not within the data given.')\n",
    "        elif children not in all_children_list:\n",
    "            return print('The amount of children specified is not within the data given.')\n",
    "        elif region not in all_region_list:\n",
    "            return print(\"The region you specified is not a valid region.\")\n",
    "        elif sex not in all_sex_list:\n",
    "            return print(\"The sex specifed is not within the data given\")\n",
    "        elif smoker not in all_smoker_list:\n",
    "            return print('Please specifiy if the person is a smoker or not by inputing \\\"yes\\\" or \\\"no\\\"')\n",
    "    \n",
    "    \n",
    "        if data['age'] == age and data['sex'] == sex and data['children'] == children and data['smoker'] == smoker and data['region'] == region:\n",
    "            charge_list.append(data.get('charges'))\n",
    "    avg_charge = sum(charge_list)/len(charge_list)\n",
    "    return print('The number of people with the specifications you have provided is', str(len(charge_list)) + '.','The average charge for a', sex, str(age), 'year old who is a', smoker_or_nonsmoker, 'with', children, 'children', 'that lives in the', region, 'region is', '$' + str(round(avg_charge,2)))\n",
    "    "
   ]
  },
  {
   "cell_type": "code",
   "execution_count": 467,
   "metadata": {},
   "outputs": [
    {
     "name": "stdout",
     "output_type": "stream",
     "text": [
      "The number of people with the specifications you have provided is 1. The average charge for a female 23 year old who is a non-smoker with 0 children that lives in the northeast region is $2899.49\n"
     ]
    }
   ],
   "source": [
    "age = 23\n",
    "sex = 'female'\n",
    "children = 0\n",
    "smoker = 'no'\n",
    "region = 'northeast'\n",
    "avg_charge(age, sex, children, smoker, region)"
   ]
  },
  {
   "cell_type": "markdown",
   "metadata": {},
   "source": []
  }
 ],
 "metadata": {
  "kernelspec": {
   "display_name": "Python 3 (ipykernel)",
   "language": "python",
   "name": "python3"
  },
  "language_info": {
   "codemirror_mode": {
    "name": "ipython",
    "version": 3
   },
   "file_extension": ".py",
   "mimetype": "text/x-python",
   "name": "python",
   "nbconvert_exporter": "python",
   "pygments_lexer": "ipython3",
   "version": "3.10.9"
  }
 },
 "nbformat": 4,
 "nbformat_minor": 4
}
